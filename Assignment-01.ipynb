{
 "cells": [
  {
   "cell_type": "markdown",
   "metadata": {
    "nbgrader": {
     "grade": false,
     "grade_id": "jupyter",
     "locked": true,
     "schema_version": 3,
     "solution": false
    }
   },
   "source": [
    "For this problem set, we'll be using the Jupyter notebook:\n",
    "\n",
    "![](jupyter.png)"
   ]
  },
  {
   "cell_type": "markdown",
   "metadata": {},
   "source": [
    "---\n",
    "## Programming Assignment (5 points)\n",
    "\n",
    "Write a Python code that implements batch linear regressor using gradient descent.\n",
    "\n",
    "$$gradient=\\sum_{i=1}^{N}\\vec{x_i}(y_i-f(\\vec{x_i}))$$\n",
    "$$\\vec{w}\\gets \\vec{w} + \\eta . gradient$$\n",
    "\n",
    "where $\\vec{x_i}$ is one data point (with N being the size of the data set). $\\eta$ the learning rate, $\\vec{y_i}$ is the target output and $f(\\vec{x_i})$ is the linear function defined as $f(\\vec{x_i})=\\vec{w}^{T}\\vec{x}$ or equivalently $f(\\vec{x})=\\sum_{i}{w_i}.{x_i}.$ whereas $\\vec{w}$ and $\\vec{x}$ include the bias/intercept, i.e. $\\vec{w_0}$ ( $\\vec{x_0}$ is always 1). All weights should be initialized as 0."
   ]
  },
  {
   "cell_type": "markdown",
   "metadata": {
    "nbgrader": {
     "grade": false,
     "grade_id": "squares",
     "locked": false,
     "schema_version": 3,
     "solution": true
    }
   },
   "source": [
    "### Parameters\n",
    "\n",
    "- $\\textit{threshold}$ - The threshold, that the change in error has to fall below, before the algorithm terminates.\n",
    "- $\\textit{data}$ - The location of the data file (e.g. /media/data/yacht.csv).\n",
    "- $\\textit{eta}$ - The learning rate of your gradient descent approach.\n",
    "\n",
    "Start your program in the following way:\n",
    "\n",
    "```python\n",
    "\n",
    "python3 script.py --data random.csv --eta 0.001 --threshold 0.001\n",
    "```"
   ]
  },
  {
   "cell_type": "code",
   "execution_count": null,
   "metadata": {},
   "outputs": [],
   "source": [
    "%run -i bregressorv2.py --data random1.csv --eta 0.0001 --threshold 0.0001"
   ]
  }
 ],
 "metadata": {
  "kernelspec": {
   "display_name": "Python 3 (ipykernel)",
   "language": "python",
   "name": "python3"
  },
  "language_info": {
   "codemirror_mode": {
    "name": "ipython",
    "version": 3
   },
   "file_extension": ".py",
   "mimetype": "text/x-python",
   "name": "python",
   "nbconvert_exporter": "python",
   "pygments_lexer": "ipython3",
   "version": "3.9.7"
  }
 },
 "nbformat": 4,
 "nbformat_minor": 1
}
